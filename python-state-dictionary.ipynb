import pandas as pd

path = 'http://fmwww.bc.edu/ec-p/data/wooldridge/wage1.dta'
df = pd.from_stata(path)
print(df)
